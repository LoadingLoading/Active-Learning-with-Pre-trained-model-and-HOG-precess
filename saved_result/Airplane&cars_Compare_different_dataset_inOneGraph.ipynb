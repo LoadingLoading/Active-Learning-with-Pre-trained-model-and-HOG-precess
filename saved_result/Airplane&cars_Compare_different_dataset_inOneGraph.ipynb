{
 "cells": [
  {
   "cell_type": "code",
   "execution_count": 1,
   "metadata": {},
   "outputs": [],
   "source": [
    "import numpy as np\n",
    "import matplotlib.pyplot as plt"
   ]
  },
  {
   "cell_type": "code",
   "execution_count": 2,
   "metadata": {},
   "outputs": [],
   "source": [
    "def areas(lengths,choice,model):\n",
    "    sum = 0.\n",
    "    i = 0\n",
    "    k=10\n",
    "    #print(lengths,ks)\n",
    "    for length in lengths:\n",
    "        lengthhere = lengths[i]\n",
    "        if i == 0:\n",
    "            sum = sum + lengthhere*k/2\n",
    "        else:\n",
    "            sum = sum + (lengthhere+lengthhere)*k/2\n",
    "        i += 1\n",
    "    #print(\"The whole area is : 50,000\")\n",
    "    print(\"Airplane & car \"+choice+\" \"+model+\": The area below this line is: %.2f\"%sum)\n",
    "    \n",
    "    "
   ]
  },
  {
   "cell_type": "code",
   "execution_count": 3,
   "metadata": {},
   "outputs": [],
   "source": [
    "#'500'\n",
    "max_queried = 500\n",
    "\n",
    "#'Raw''HOG''Pretrained'\n",
    "choice_str=['Raw','Pretrained','HOG']\n",
    "\n",
    "#'RfModel''LogModel''SvmModel'\n",
    "models_str = ['SvmModel']\n",
    "\n",
    "#'RandomSelection''MarginSamplingSelection''EntropySelection'\n",
    "selection_functions_str = ['EntropySelection']\n",
    "\n"
   ]
  },
  {
   "cell_type": "code",
   "execution_count": 4,
   "metadata": {},
   "outputs": [
    {
     "name": "stdout",
     "output_type": "stream",
     "text": [
      "Airplane & car Raw SvmModel: The area below this line is: 41281.25\n",
      "Airplane & car Pretrained SvmModel: The area below this line is: 47821.25\n",
      "Airplane & car HOG SvmModel: The area below this line is: 48578.75\n"
     ]
    },
    {
     "data": {
      "image/png": "[encoded data removed]",
      "text/plain": [
       "<Figure size 432x288 with 1 Axes>"
      ]
     },
     "metadata": {
      "needs_background": "light"
     },
     "output_type": "display_data"
    }
   ],
   "source": [
    "fig, ax = plt.subplots()\n",
    "x = np.arange(float(10), 500 + float(10), float(10))\n",
    "\n",
    "for choice in choice_str:\n",
    "    for model in models_str:\n",
    "        for selection_function in selection_functions_str:\n",
    "            filename =choice+'-'+ model + '-' +selection_function + '-' + \"10\"+'.npy'\n",
    "            result = np.load(filename)\n",
    "            ax.plot(x, result ,label = model + '-' +selection_function + '-' + \"10-\"+choice)\n",
    "            areas(result,choice,model)\n",
    "\n",
    "ax.legend()\n",
    "ax.set_xlim([0,500])\n",
    "ax.set_ylim([0,100])\n",
    "ax.grid(True)\n",
    "plt.show()\n"
   ]
  },
  {
   "cell_type": "code",
   "execution_count": null,
   "metadata": {},
   "outputs": [],
   "source": []
  },
  {
   "cell_type": "code",
   "execution_count": null,
   "metadata": {},
   "outputs": [],
   "source": []
  }
 ],
 "metadata": {
  "kernelspec": {
   "display_name": "Python 3",
   "language": "python",
   "name": "python3"
  },
  "language_info": {
   "codemirror_mode": {
    "name": "ipython",
    "version": 3
   },
   "file_extension": ".py",
   "mimetype": "text/x-python",
   "name": "python",
   "nbconvert_exporter": "python",
   "pygments_lexer": "ipython3",
   "version": "3.6.7"
  }
 },
 "nbformat": 4,
 "nbformat_minor": 2
}
