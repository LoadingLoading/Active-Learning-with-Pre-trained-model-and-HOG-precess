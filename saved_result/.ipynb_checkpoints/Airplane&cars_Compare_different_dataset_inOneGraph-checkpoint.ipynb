{
 "cells": [
  {
   "cell_type": "code",
   "execution_count": 1,
   "metadata": {},
   "outputs": [
    {
     "name": "stderr",
     "output_type": "stream",
     "text": [
      "Using TensorFlow backend.\n"
     ]
    }
   ],
   "source": [
    "#!/usr/bin/python\n",
    "# -*- coding: utf-8 -*-\n",
    "from __future__ import print_function\n",
    "import os\n",
    "import time\n",
    "import json\n",
    "import pickle\n",
    "import numpy as np\n",
    "import pandas as pd\n",
    "import matplotlib.pyplot as plt\n",
    "import matplotlib.mlab as mlab\n",
    "from scipy import stats\n",
    "from pylab import rcParams\n",
    "from sklearn.utils import check_random_state\n",
    "from sklearn.datasets import load_digits\n",
    "from sklearn.datasets import fetch_mldata\n",
    "from sklearn.decomposition import PCA\n",
    "from sklearn.preprocessing import scale\n",
    "from sklearn.preprocessing import MinMaxScaler\n",
    "from sklearn.cluster import KMeans\n",
    "from sklearn.mixture import GaussianMixture\n",
    "from sklearn.svm import LinearSVC, SVC\n",
    "from sklearn.linear_model import LinearRegression\n",
    "from sklearn.linear_model import LogisticRegression\n",
    "from sklearn import metrics\n",
    "from sklearn.metrics import pairwise_distances_argmin_min\n",
    "from sklearn.metrics import confusion_matrix\n",
    "from sklearn.metrics import precision_recall_curve\n",
    "from sklearn.metrics import average_precision_score\n",
    "from sklearn.model_selection import cross_val_score\n",
    "from sklearn.model_selection import train_test_split\n",
    "from sklearn.ensemble import RandomForestClassifier, \\\n",
    "    GradientBoostingClassifier\n",
    "from keras import backend as K\n",
    "from keras.applications.vgg16 import VGG16\n",
    "from sklearn.datasets import fetch_mldata\n",
    "from sklearn import tree\n",
    "from sklearn import metrics\n",
    "from keras import applications\n",
    "from keras.preprocessing.image import ImageDataGenerator\n",
    "from keras import optimizers\n",
    "from keras.models import Sequential\n",
    "from keras.layers import Dropout, Flatten, Dense\n",
    "from keras.models import Model\n",
    "from keras.utils.vis_utils import plot_model\n",
    "import keras\n",
    "from keras.datasets import mnist\n",
    "from keras.models import Sequential\n",
    "from keras.layers import Dense, Dropout, Flatten\n",
    "from keras.layers import Conv2D, MaxPooling2D\n",
    "from keras import backend as K\n",
    "from sklearn import svm\n",
    "import numpy as np\n",
    "import os\n",
    "from keras.preprocessing.image import ImageDataGenerator\n",
    "from keras.models import Sequential\n",
    "from keras.layers import Dropout, Flatten, Dense\n",
    "from keras import applications\n",
    "import glob\n",
    "from keras.preprocessing.image import load_img\n",
    "from keras.preprocessing.image import img_to_array\n",
    "import glob\n",
    "import platform\n",
    "import time\n",
    "from PIL import Image\n",
    "from skimage.feature import hog\n",
    "import numpy as np\n",
    "import os\n",
    "import joblib\n",
    "from sklearn.svm import LinearSVC\n",
    "import shutil\n",
    "import sys\n",
    "\n",
    "import os\n",
    "os.environ['KMP_DUPLICATE_LIB_OK']='True'\n",
    "import cv2\n",
    "\n"
   ]
  },
  {
   "cell_type": "code",
   "execution_count": 2,
   "metadata": {},
   "outputs": [],
   "source": [
    "def areas(lengths,choice,model):\n",
    "    sum = 0.\n",
    "    i = 0\n",
    "    k=10\n",
    "    #print(lengths,ks)\n",
    "    for length in lengths:\n",
    "        lengthhere = lengths[i]\n",
    "        if i == 0:\n",
    "            sum = sum + lengthhere*k/2\n",
    "        else:\n",
    "            sum = sum + (lengthhere+lengthhere)*k/2\n",
    "        i += 1\n",
    "    #print(\"The whole area is : 50,000\")\n",
    "    print(\"Airplane & car \"+choice+\" \"+model+\": The area below this line is: %.2f\"%sum)\n",
    "    \n",
    "    "
   ]
  },
  {
   "cell_type": "code",
   "execution_count": 7,
   "metadata": {},
   "outputs": [],
   "source": [
    "#'500'\n",
    "max_queried = 500\n",
    "\n",
    "#'Raw''HOG''Pretrained'\n",
    "choice_str=['Raw','Pretrained']\n",
    "\n",
    "#'RfModel''LogModel''SvmModel'\n",
    "models_str = ['LogModel']\n",
    "\n",
    "#'RandomSelection''MarginSamplingSelection''EntropySelection'\n",
    "selection_functions_str = ['EntropySelection']\n",
    "\n"
   ]
  },
  {
   "cell_type": "code",
   "execution_count": 8,
   "metadata": {},
   "outputs": [
    {
     "name": "stdout",
     "output_type": "stream",
     "text": [
      "Airplane & car Raw LogModel: The area below this line is: 38205.00\n",
      "Airplane & car Pretrained LogModel: The area below this line is: 49241.25\n"
     ]
    },
    {
     "data": {
      "image/png": "[encoded data removed]",
      "text/plain": [
       "<Figure size 432x288 with 1 Axes>"
      ]
     },
     "metadata": {
      "needs_background": "light"
     },
     "output_type": "display_data"
    }
   ],
   "source": [
    "fig, ax = plt.subplots()\n",
    "x = np.arange(float(10), 500 + float(10), float(10))\n",
    "\n",
    "for choice in choice_str:\n",
    "    for model in models_str:\n",
    "        for selection_function in selection_functions_str:\n",
    "            filename =choice+'-'+ model + '-' +selection_function + '-' + \"10\"+'.npy'\n",
    "            result = np.load(filename)\n",
    "            ax.plot(x, result ,label = model + '-' +selection_function + '-' + \"10-\"+choice)\n",
    "            areas(result,choice,model)\n",
    "\n",
    "ax.legend()\n",
    "ax.set_xlim([0,500])\n",
    "ax.set_ylim([0,100])\n",
    "ax.grid(True)\n",
    "plt.show()\n"
   ]
  },
  {
   "cell_type": "code",
   "execution_count": null,
   "metadata": {},
   "outputs": [],
   "source": []
  },
  {
   "cell_type": "code",
   "execution_count": null,
   "metadata": {},
   "outputs": [],
   "source": []
  }
 ],
 "metadata": {
  "kernelspec": {
   "display_name": "Python 3",
   "language": "python",
   "name": "python3"
  },
  "language_info": {
   "codemirror_mode": {
    "name": "ipython",
    "version": 3
   },
   "file_extension": ".py",
   "mimetype": "text/x-python",
   "name": "python",
   "nbconvert_exporter": "python",
   "pygments_lexer": "ipython3",
   "version": "3.6.7"
  }
 },
 "nbformat": 4,
 "nbformat_minor": 2
}
